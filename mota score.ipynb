{
 "cells": [
  {
   "cell_type": "code",
   "execution_count": 1,
   "id": "ea9265b5",
   "metadata": {},
   "outputs": [
    {
     "name": "stdout",
     "output_type": "stream",
     "text": [
      "Collecting motmetrics\n",
      "  Downloading motmetrics-1.4.0-py3-none-any.whl (161 kB)\n",
      "\u001b[2K     \u001b[38;2;114;156;31m━━━━━━━━━━━━━━━━━━━━━━━━━━━━━━━━━━━━━\u001b[0m \u001b[32m161.5/161.5 kB\u001b[0m \u001b[31m411.2 kB/s\u001b[0m eta \u001b[36m0:00:00\u001b[0m1m416.3 kB/s\u001b[0m eta \u001b[36m0:00:01\u001b[0m\n",
      "\u001b[?25hCollecting xmltodict>=0.12.0\n",
      "  Downloading xmltodict-0.13.0-py2.py3-none-any.whl (10.0 kB)\n",
      "Requirement already satisfied: scipy>=0.19.0 in /home/chirathv97/anaconda3/envs/yolo3dpy37/lib/python3.7/site-packages (from motmetrics) (1.7.3)\n",
      "Requirement already satisfied: numpy>=1.12.1 in /home/chirathv97/anaconda3/envs/yolo3dpy37/lib/python3.7/site-packages (from motmetrics) (1.21.5)\n",
      "Collecting pandas>=0.23.1\n",
      "  Downloading pandas-1.3.5-cp37-cp37m-manylinux_2_17_x86_64.manylinux2014_x86_64.whl (11.3 MB)\n",
      "\u001b[2K     \u001b[38;2;114;156;31m━━━━━━━━━━━━━━━━━━━━━━━━━━━━━━━━━━━━━━━━\u001b[0m \u001b[32m11.3/11.3 MB\u001b[0m \u001b[31m1.4 MB/s\u001b[0m eta \u001b[36m0:00:00\u001b[0mm eta \u001b[36m0:00:01\u001b[0m[36m0:00:01\u001b[0mm\n",
      "\u001b[?25hRequirement already satisfied: pytz>=2017.3 in /home/chirathv97/anaconda3/envs/yolo3dpy37/lib/python3.7/site-packages (from pandas>=0.23.1->motmetrics) (2023.3)\n",
      "Requirement already satisfied: python-dateutil>=2.7.3 in /home/chirathv97/anaconda3/envs/yolo3dpy37/lib/python3.7/site-packages (from pandas>=0.23.1->motmetrics) (2.8.2)\n",
      "Requirement already satisfied: six>=1.5 in /home/chirathv97/anaconda3/envs/yolo3dpy37/lib/python3.7/site-packages (from python-dateutil>=2.7.3->pandas>=0.23.1->motmetrics) (1.16.0)\n",
      "Installing collected packages: xmltodict, pandas, motmetrics\n",
      "Successfully installed motmetrics-1.4.0 pandas-1.3.5 xmltodict-0.13.0\n"
     ]
    }
   ],
   "source": [
    "# !pip install motmetrics"
   ]
  },
  {
   "cell_type": "code",
   "execution_count": 2,
   "id": "a26884b8",
   "metadata": {},
   "outputs": [],
   "source": [
    "#!/usr/bin/env python3\n",
    "import numpy as np\n",
    "import cv2\n",
    "import torch\n",
    "import os\n",
    "import matplotlib.pyplot as plt\n",
    "import time\n",
    "from IPython.display import clear_output"
   ]
  },
  {
   "cell_type": "code",
   "execution_count": 3,
   "id": "1d0bccf1",
   "metadata": {},
   "outputs": [],
   "source": [
    "#camera callibaration data of kitti\n",
    "KITTI_P2_0 = np.array([[ 7.215377000000e+02, 0.000000000000e+00, 6.095593000000e+02, 4.485728000000e+01,],\n",
    "                 [0.000000000000e+00, 7.215377000000e+02, 1.728540000000e+02, 2.163791000000e-01,],\n",
    "                 [0.000000000000e+00, 0.000000000000e+00, 1.000000000000e+00, 2.745884000000e-03],])\n",
    "                \n",
    "KITTI_P3_0 = np.array([[ 7.215377000000e+02, 0.000000000000e+00, 6.095593000000e+02, -3.395242000000e+02,],\n",
    "                 [ 0.000000000000e+00, 7.215377000000e+02, 1.728540000000e+02, 2.199936000000e+00,],\n",
    "                 [ 0.000000000000e+00, 0.000000000000e+00, 1.000000000000e+00, 2.729905000000e-03],])\n"
   ]
  },
  {
   "cell_type": "code",
   "execution_count": 19,
   "id": "cf99d0e3",
   "metadata": {},
   "outputs": [],
   "source": [
    "from pipeline import Pipeline"
   ]
  },
  {
   "cell_type": "code",
   "execution_count": 20,
   "id": "3e277eb6",
   "metadata": {},
   "outputs": [
    {
     "name": "stdout",
     "output_type": "stream",
     "text": [
      "Starting Pipeline.\n",
      "Reading Pipeline params.\n",
      "Loading Pipeline.\n",
      "Starting Yolo3DNode.\n",
      "Reading params.\n",
      "Loading model.\n",
      "Done loading model.\n",
      "--------------------- trajectory ---------------------\n",
      "self.max_age =  1 \n",
      " self.min_hits =  3 \n",
      " self.iou_threshold =  0.1 \n",
      " self.no_of_future_frames =  6 \n",
      " self.no_of_past_frames =  6 \n",
      "\n",
      "Starting View.\n",
      "Reading View params.\n"
     ]
    }
   ],
   "source": [
    "pp = Pipeline(max_age=1, min_hits=3, iou_threshold=0.1, no_of_future_frames=6, no_of_past_frames=6)"
   ]
  },
  {
   "cell_type": "code",
   "execution_count": 21,
   "id": "cd27ec8f",
   "metadata": {},
   "outputs": [],
   "source": [
    "# path = 'kitti_s1' #836\n",
    "path = 'kitti_s2' #77\n",
    "# path = 'kitti_s3' #446\n",
    "# path = 'kitti_s4' #313\n",
    "# path = 'kitti_s5' #21\n",
    "# path = 'kitti_s6' #432"
   ]
  },
  {
   "cell_type": "code",
   "execution_count": 14,
   "id": "67bcf8aa",
   "metadata": {},
   "outputs": [
    {
     "data": {
      "text/plain": [
       "'/home/chirathv97/FYP/Stereo-Vision-Based-Vehicle-Forward-Collision-Warning-System'"
      ]
     },
     "execution_count": 14,
     "metadata": {},
     "output_type": "execute_result"
    }
   ],
   "source": [
    "pwd"
   ]
  },
  {
   "cell_type": "code",
   "execution_count": 22,
   "id": "1d27fd32",
   "metadata": {},
   "outputs": [
    {
     "name": "stdout",
     "output_type": "stream",
     "text": [
      "frame 0\n",
      "frame 1\n"
     ]
    },
    {
     "name": "stderr",
     "output_type": "stream",
     "text": [
      "/home/chirathv97/FYP/Stereo-Vision-Based-Vehicle-Forward-Collision-Warning-System/visualDet3D/networks/lib/PSM_cost_volume.py:87: UserWarning: volatile was removed and now has no effect. Use `with torch.no_grad():` instead.\n",
      "  volatile= not self.training\n",
      "/home/chirathv97/FYP/Stereo-Vision-Based-Vehicle-Forward-Collision-Warning-System/visualDet3D/networks/lib/PSM_cost_volume.py:55: UserWarning: volatile was removed and now has no effect. Use `with torch.no_grad():` instead.\n",
      "  volatile= not self.training\n",
      "/home/chirathv97/FYP/Stereo-Vision-Based-Vehicle-Forward-Collision-Warning-System/trajectory/trajectory.py:360: VisibleDeprecationWarning: Creating an ndarray from ragged nested sequences (which is a list-or-tuple of lists-or-tuples-or ndarrays with different lengths or shapes) is deprecated. If you meant to do this, you must specify 'dtype=object' when creating the ndarray.\n",
      "  return np.array(ret)\n"
     ]
    },
    {
     "name": "stdout",
     "output_type": "stream",
     "text": [
      "frame 2\n",
      "frame 3\n",
      "frame 4\n",
      "frame 5\n",
      "frame 6\n",
      "frame 7\n",
      "frame 8\n",
      "frame 9\n",
      "frame 10\n",
      "frame 11\n",
      "frame 12\n",
      "frame 13\n",
      "frame 14\n",
      "frame 15\n",
      "frame 16\n",
      "frame 17\n",
      "frame 18\n",
      "frame 19\n",
      "frame 20\n",
      "frame 21\n",
      "frame 22\n",
      "frame 23\n",
      "frame 24\n",
      "frame 25\n",
      "frame 26\n",
      "frame 27\n",
      "frame 28\n",
      "frame 29\n",
      "frame 30\n",
      "frame 31\n",
      "frame 32\n",
      "frame 33\n",
      "frame 34\n",
      "frame 35\n",
      "frame 36\n",
      "frame 37\n",
      "frame 38\n",
      "frame 39\n",
      "frame 40\n",
      "frame 41\n",
      "frame 42\n",
      "frame 43\n",
      "frame 44\n",
      "frame 45\n",
      "frame 46\n",
      "frame 47\n",
      "frame 48\n",
      "frame 49\n",
      "frame 50\n",
      "frame 51\n",
      "frame 52\n",
      "frame 53\n",
      "frame 54\n",
      "frame 55\n",
      "frame 56\n",
      "frame 57\n",
      "frame 58\n",
      "frame 59\n",
      "frame 60\n",
      "frame 61\n",
      "frame 62\n",
      "frame 63\n",
      "frame 64\n",
      "frame 65\n",
      "frame 66\n",
      "frame 67\n",
      "frame 68\n",
      "frame 69\n",
      "frame 70\n",
      "frame 71\n",
      "frame 72\n",
      "frame 73\n",
      "frame 74\n",
      "frame 75\n",
      "frame 76\n",
      "frame 77\n",
      "len(current_bb_list) 130\n",
      "len(future_bb_list) 130\n"
     ]
    }
   ],
   "source": [
    "length = 78\n",
    "start_track = time.time()\n",
    "\n",
    "current_bb_list=[]\n",
    "future_bb_list=[]\n",
    "\n",
    "for frame in range (length):\n",
    "    print('frame',frame)\n",
    "    left_image = cv2.imread(\"./data/\"+path+\"_left/%06d\" % frame+\".png\")\n",
    "    right_image = cv2.imread(\"./data/\"+path+\"_right/%06d\" % frame+\".png\")\n",
    "\n",
    "    rgb_image, track_bbs_ids=pp.assignTrackID(left_image,right_image)\n",
    "\n",
    "\n",
    "    for bbs in track_bbs_ids: #for each vehicle in a image frame\n",
    "        bb=bbs[0] #current bounding box\n",
    "        future_bbs=bbs[1] #future bounding boxes\n",
    "        vehicle_ID=bbs[-1] #vehicle id\n",
    "        \n",
    "        if len(future_bbs) > 0:\n",
    "            future_bb=future_bbs[0]\n",
    "            current_bb_list.append(bb)\n",
    "            future_bb_list.append(future_bb)\n",
    "\n",
    "            \n",
    "print('len(current_bb_list)',len(current_bb_list))\n",
    "print('len(future_bb_list)',len(future_bb_list))"
   ]
  },
  {
   "cell_type": "code",
   "execution_count": 25,
   "id": "420645a9",
   "metadata": {},
   "outputs": [],
   "source": [
    "gt_bboxes_list=current_bb_list\n",
    "pred_bboxes_list=future_bb_list"
   ]
  },
  {
   "cell_type": "code",
   "execution_count": 26,
   "id": "ea99b6fc",
   "metadata": {},
   "outputs": [
    {
     "ename": "TypeError",
     "evalue": "update() missing 1 required positional argument: 'dists'",
     "output_type": "error",
     "traceback": [
      "\u001b[0;31m---------------------------------------------------------------------------\u001b[0m",
      "\u001b[0;31mTypeError\u001b[0m                                 Traceback (most recent call last)",
      "\u001b[0;32m<ipython-input-26-58f2aaa9e1a5>\u001b[0m in \u001b[0;36m<module>\u001b[0;34m()\u001b[0m\n\u001b[1;32m      7\u001b[0m \u001b[0;32mfor\u001b[0m \u001b[0mframe_number\u001b[0m\u001b[0;34m,\u001b[0m \u001b[0;34m(\u001b[0m\u001b[0mgt_bboxes\u001b[0m\u001b[0;34m,\u001b[0m \u001b[0mpred_bboxes\u001b[0m\u001b[0;34m)\u001b[0m \u001b[0;32min\u001b[0m \u001b[0menumerate\u001b[0m\u001b[0;34m(\u001b[0m\u001b[0mzip\u001b[0m\u001b[0;34m(\u001b[0m\u001b[0mgt_bboxes_list\u001b[0m\u001b[0;34m,\u001b[0m \u001b[0mpred_bboxes_list\u001b[0m\u001b[0;34m)\u001b[0m\u001b[0;34m)\u001b[0m\u001b[0;34m:\u001b[0m\u001b[0;34m\u001b[0m\u001b[0;34m\u001b[0m\u001b[0m\n\u001b[1;32m      8\u001b[0m     \u001b[0;31m# Update the accumulator with the frame's ground truth and predicted bounding boxes\u001b[0m\u001b[0;34m\u001b[0m\u001b[0;34m\u001b[0m\u001b[0;34m\u001b[0m\u001b[0m\n\u001b[0;32m----> 9\u001b[0;31m     \u001b[0macc\u001b[0m\u001b[0;34m.\u001b[0m\u001b[0mupdate\u001b[0m\u001b[0;34m(\u001b[0m\u001b[0mgt_bboxes\u001b[0m\u001b[0;34m,\u001b[0m \u001b[0mpred_bboxes\u001b[0m\u001b[0;34m)\u001b[0m\u001b[0;34m\u001b[0m\u001b[0;34m\u001b[0m\u001b[0m\n\u001b[0m\u001b[1;32m     10\u001b[0m \u001b[0;34m\u001b[0m\u001b[0m\n\u001b[1;32m     11\u001b[0m \u001b[0;31m# Compute the metrics using the accumulator\u001b[0m\u001b[0;34m\u001b[0m\u001b[0;34m\u001b[0m\u001b[0;34m\u001b[0m\u001b[0m\n",
      "\u001b[0;31mTypeError\u001b[0m: update() missing 1 required positional argument: 'dists'"
     ]
    }
   ],
   "source": [
    "import motmetrics as mm\n",
    "\n",
    "# Create an accumulator to store tracking event data\n",
    "acc = mm.MOTAccumulator()\n",
    "\n",
    "# Iterate through each frame and bounding box predictions\n",
    "for frame_number, (gt_bboxes, pred_bboxes) in enumerate(zip(gt_bboxes_list, pred_bboxes_list)):\n",
    "    # Update the accumulator with the frame's ground truth and predicted bounding boxes\n",
    "    acc.update(gt_bboxes, pred_bboxes)\n",
    "\n",
    "# Compute the metrics using the accumulator\n",
    "mh = mm.metrics.create()\n",
    "summary = mh.compute(acc, metrics=['num_false_positives', 'num_misses', 'num_switches', 'num_objects'], name='MOTA')\n",
    "\n",
    "# Calculate the MOTA score\n",
    "MOTA = 1 - summary['num_false_positives'] / summary['num_objects'] - summary['num_misses'] / summary['num_objects'] - summary['num_switches'] / summary['num_objects']\n",
    "\n",
    "# Print the MOTA score\n",
    "print(\"summary['num_false_positives']:\", summary['num_false_positives'])\n",
    "# Print the MOTA score\n",
    "print(\"summary['num_objects']:\", summary['num_objects'])\n",
    "# Print the MOTA score\n",
    "print(\"summary['num_misses']:\", summary['num_misses'])\n",
    "# Print the MOTA score\n",
    "print(\"summary['num_objects']\", summary['num_objects'])\n",
    "# Print the MOTA score\n",
    "print(\"MOTA score:\", MOTA)\n"
   ]
  }
 ],
 "metadata": {
  "kernelspec": {
   "display_name": "Python 3",
   "language": "python",
   "name": "python3"
  },
  "language_info": {
   "codemirror_mode": {
    "name": "ipython",
    "version": 3
   },
   "file_extension": ".py",
   "mimetype": "text/x-python",
   "name": "python",
   "nbconvert_exporter": "python",
   "pygments_lexer": "ipython3",
   "version": "3.7.6"
  }
 },
 "nbformat": 4,
 "nbformat_minor": 5
}

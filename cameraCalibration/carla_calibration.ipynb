{
 "cells": [
  {
   "cell_type": "code",
   "execution_count": 3,
   "id": "28be48b9",
   "metadata": {},
   "outputs": [],
   "source": [
    "import numpy as np\n",
    "import math"
   ]
  },
  {
   "cell_type": "code",
   "execution_count": 4,
   "id": "c742b052",
   "metadata": {},
   "outputs": [],
   "source": [
    "intrinsic_mat = [[951.07990705,   0.,         691.,        ],\n",
    " [  0.,         951.07990705, 256.        ],\n",
    " [  0. ,          0. ,          1.        ]]"
   ]
  },
  {
   "cell_type": "code",
   "execution_count": 5,
   "id": "662b6b63",
   "metadata": {},
   "outputs": [],
   "source": [
    " ravel_mode = 'C'\n",
    " P0 = intrinsic_mat\n",
    " P0 = np.column_stack((P0, np.array([0, 0, 0])))\n",
    " P0 = np.ravel(P0, order=ravel_mode)"
   ]
  },
  {
   "cell_type": "code",
   "execution_count": 6,
   "id": "36de48d5",
   "metadata": {},
   "outputs": [
    {
     "data": {
      "text/plain": [
       "array([951.07990705,   0.        , 691.        ,   0.        ,\n",
       "         0.        , 951.07990705, 256.        ,   0.        ,\n",
       "         0.        ,   0.        ,   1.        ,   0.        ])"
      ]
     },
     "execution_count": 6,
     "metadata": {},
     "output_type": "execute_result"
    }
   ],
   "source": [
    "P0"
   ]
  },
  {
   "cell_type": "code",
   "execution_count": 7,
   "id": "69379b00",
   "metadata": {},
   "outputs": [
    {
     "data": {
      "text/plain": [
       "array([951.07990705,   0.        , 691.        ,   0.        ,\n",
       "         0.        , 951.07990705, 256.        ,   0.        ,\n",
       "         0.        ,   0.        ,   1.        ,   0.        ])"
      ]
     },
     "execution_count": 7,
     "metadata": {},
     "output_type": "execute_result"
    }
   ],
   "source": [
    "w=1382\n",
    "h=512\n",
    "fov=72.0\n",
    "\n",
    "width = w#int(camera.attributes['image_size_x'])\n",
    "height = h#int(camera.attributes['image_size_y'])\n",
    "fov = fov#float(camera.attributes['fov'])\n",
    "\n",
    "k = np.identity(3)\n",
    "k[0, 2] = width / 2.0\n",
    "k[1, 2] = height / 2.0\n",
    "k[0, 0] = k[1, 1] = width / (2.0 * np.tan(fov * np.pi / 360.0))\n",
    "\n",
    "ravel_mode = 'C'\n",
    "intrinsic_mat =   k\n",
    "P0 = intrinsic_mat\n",
    "P0 = np.column_stack((P0, np.array([0, 0, 0])))\n",
    "P0 = np.ravel(P0, order=ravel_mode)\n",
    "P0"
   ]
  },
  {
   "cell_type": "code",
   "execution_count": 11,
   "id": "6efbbb4e",
   "metadata": {},
   "outputs": [
    {
     "data": {
      "text/plain": [
       "array([[957.96181665,   0.        , 696.        ,   0.        ],\n",
       "       [  0.        , 957.96181665, 512.        ,   0.        ],\n",
       "       [  0.        ,   0.        ,   1.        ,   0.        ]])"
      ]
     },
     "execution_count": 11,
     "metadata": {},
     "output_type": "execute_result"
    }
   ],
   "source": [
    "fx = 1392/(2*math.tan((72.0/2.0)*(math.pi/180.0)))\n",
    "fy = fx\n",
    "cu = 1392/2.0\n",
    "cv = 1024/2.0\n",
    "K = np.array([[fx,0,cu,0],[0,fy,cv,0],[0,0,1,0]])\n",
    "K\n"
   ]
  },
  {
   "cell_type": "code",
   "execution_count": 1,
   "id": "8b562289",
   "metadata": {},
   "outputs": [
    {
     "data": {
      "text/plain": [
       "'/home/chirathv97/FYP/Stereo-Vision-Based-Vehicle-Forward-Collision-Warning-System'"
      ]
     },
     "execution_count": 1,
     "metadata": {},
     "output_type": "execute_result"
    }
   ],
   "source": [
    "pwd"
   ]
  },
  {
   "cell_type": "code",
   "execution_count": 9,
   "id": "73490f21",
   "metadata": {},
   "outputs": [],
   "source": [
    "from PIL import Image"
   ]
  },
  {
   "cell_type": "code",
   "execution_count": 22,
   "id": "caedec08",
   "metadata": {},
   "outputs": [
    {
     "ename": "IsADirectoryError",
     "evalue": "[Errno 21] Is a directory: '.'",
     "output_type": "error",
     "traceback": [
      "\u001b[0;31m---------------------------------------------------------------------------\u001b[0m",
      "\u001b[0;31mIsADirectoryError\u001b[0m                         Traceback (most recent call last)",
      "\u001b[0;32m<ipython-input-22-2da98f43eeb5>\u001b[0m in \u001b[0;36m<module>\u001b[0;34m()\u001b[0m\n\u001b[1;32m      1\u001b[0m \u001b[0mimgs_path\u001b[0m\u001b[0;34m=\u001b[0m\u001b[0;34m'./data/carla_s1_left/'\u001b[0m\u001b[0;34m\u001b[0m\u001b[0;34m\u001b[0m\u001b[0m\n\u001b[1;32m      2\u001b[0m rgb_values = np.concatenate(\n\u001b[0;32m----> 3\u001b[0;31m     \u001b[0;34m[\u001b[0m\u001b[0mImage\u001b[0m\u001b[0;34m.\u001b[0m\u001b[0mopen\u001b[0m\u001b[0;34m(\u001b[0m\u001b[0mimg\u001b[0m\u001b[0;34m)\u001b[0m\u001b[0;34m.\u001b[0m\u001b[0mgetdata\u001b[0m\u001b[0;34m(\u001b[0m\u001b[0;34m)\u001b[0m \u001b[0;32mfor\u001b[0m \u001b[0mimg\u001b[0m \u001b[0;32min\u001b[0m \u001b[0mimgs_path\u001b[0m\u001b[0;34m]\u001b[0m\u001b[0;34m,\u001b[0m\u001b[0;34m\u001b[0m\u001b[0;34m\u001b[0m\u001b[0m\n\u001b[0m\u001b[1;32m      4\u001b[0m     \u001b[0maxis\u001b[0m\u001b[0;34m=\u001b[0m\u001b[0;36m0\u001b[0m\u001b[0;34m\u001b[0m\u001b[0;34m\u001b[0m\u001b[0m\n\u001b[1;32m      5\u001b[0m ) / 255.\n",
      "\u001b[0;32m<ipython-input-22-2da98f43eeb5>\u001b[0m in \u001b[0;36m<listcomp>\u001b[0;34m(.0)\u001b[0m\n\u001b[1;32m      1\u001b[0m \u001b[0mimgs_path\u001b[0m\u001b[0;34m=\u001b[0m\u001b[0;34m'./data/carla_s1_left/'\u001b[0m\u001b[0;34m\u001b[0m\u001b[0;34m\u001b[0m\u001b[0m\n\u001b[1;32m      2\u001b[0m rgb_values = np.concatenate(\n\u001b[0;32m----> 3\u001b[0;31m     \u001b[0;34m[\u001b[0m\u001b[0mImage\u001b[0m\u001b[0;34m.\u001b[0m\u001b[0mopen\u001b[0m\u001b[0;34m(\u001b[0m\u001b[0mimg\u001b[0m\u001b[0;34m)\u001b[0m\u001b[0;34m.\u001b[0m\u001b[0mgetdata\u001b[0m\u001b[0;34m(\u001b[0m\u001b[0;34m)\u001b[0m \u001b[0;32mfor\u001b[0m \u001b[0mimg\u001b[0m \u001b[0;32min\u001b[0m \u001b[0mimgs_path\u001b[0m\u001b[0;34m]\u001b[0m\u001b[0;34m,\u001b[0m\u001b[0;34m\u001b[0m\u001b[0;34m\u001b[0m\u001b[0m\n\u001b[0m\u001b[1;32m      4\u001b[0m     \u001b[0maxis\u001b[0m\u001b[0;34m=\u001b[0m\u001b[0;36m0\u001b[0m\u001b[0;34m\u001b[0m\u001b[0;34m\u001b[0m\u001b[0m\n\u001b[1;32m      5\u001b[0m ) / 255.\n",
      "\u001b[0;32m/home/chirathv97/anaconda3/envs/yolo3dpy37/lib/python3.7/site-packages/PIL/Image.py\u001b[0m in \u001b[0;36mopen\u001b[0;34m(fp, mode, formats)\u001b[0m\n\u001b[1;32m   3225\u001b[0m \u001b[0;34m\u001b[0m\u001b[0m\n\u001b[1;32m   3226\u001b[0m     \u001b[0;32mif\u001b[0m \u001b[0mfilename\u001b[0m\u001b[0;34m:\u001b[0m\u001b[0;34m\u001b[0m\u001b[0;34m\u001b[0m\u001b[0m\n\u001b[0;32m-> 3227\u001b[0;31m         \u001b[0mfp\u001b[0m \u001b[0;34m=\u001b[0m \u001b[0mbuiltins\u001b[0m\u001b[0;34m.\u001b[0m\u001b[0mopen\u001b[0m\u001b[0;34m(\u001b[0m\u001b[0mfilename\u001b[0m\u001b[0;34m,\u001b[0m \u001b[0;34m\"rb\"\u001b[0m\u001b[0;34m)\u001b[0m\u001b[0;34m\u001b[0m\u001b[0;34m\u001b[0m\u001b[0m\n\u001b[0m\u001b[1;32m   3228\u001b[0m         \u001b[0mexclusive_fp\u001b[0m \u001b[0;34m=\u001b[0m \u001b[0;32mTrue\u001b[0m\u001b[0;34m\u001b[0m\u001b[0;34m\u001b[0m\u001b[0m\n\u001b[1;32m   3229\u001b[0m \u001b[0;34m\u001b[0m\u001b[0m\n",
      "\u001b[0;31mIsADirectoryError\u001b[0m: [Errno 21] Is a directory: '.'"
     ]
    }
   ],
   "source": [
    "imgs_path='./data/carla_s1_left/'\n",
    "rgb_values = np.concatenate(\n",
    "    [Image.open(img).getdata() for img in imgs_path], \n",
    "    axis=0\n",
    ") / 255.\n",
    "\n",
    "# rgb_values.shape == (n, 3), \n",
    "# where n is the total number of pixels in all images, \n",
    "# and 3 are the 3 channels: R, G, B.\n",
    "\n",
    "# Each value is in the interval [0; 1]\n",
    "\n",
    "mu_rgb = np.mean(rgb_values, axis=0)  # mu_rgb.shape == (3,)\n",
    "std_rgb = np.std(rgb_values, axis=0)  # std_rgb.shape == (3,)"
   ]
  },
  {
   "cell_type": "code",
   "execution_count": 23,
   "id": "9d8fea60",
   "metadata": {},
   "outputs": [
    {
     "name": "stdout",
     "output_type": "stream",
     "text": [
      "Mean RGB values: [126.09847209 115.99696655 109.35708008]\n",
      "Standard Deviation RGB values: [43.8449893  44.39304006 42.75420711]\n"
     ]
    }
   ],
   "source": [
    "import cv2\n",
    "import numpy as np\n",
    "\n",
    "# Read the image\n",
    "image = cv2.imread('./data/carla_s1_left/000000.png')\n",
    "\n",
    "# Convert the image to RGB format\n",
    "image = cv2.cvtColor(image, cv2.COLOR_BGR2RGB)\n",
    "\n",
    "# Calculate the mean and standard deviation of RGB values\n",
    "mean = np.mean(image, axis=(0, 1))\n",
    "std_dev = np.std(image, axis=(0, 1))\n",
    "\n",
    "print(\"Mean RGB values:\", mean)\n",
    "print(\"Standard Deviation RGB values:\", std_dev)"
   ]
  },
  {
   "cell_type": "code",
   "execution_count": 27,
   "id": "f0230963",
   "metadata": {},
   "outputs": [
    {
     "name": "stdout",
     "output_type": "stream",
     "text": [
      "Overall Mean RGB values: [126.10772444 139.22664283 133.02220988]\n",
      "Overall Standard Deviation RGB values: [59.76229321 64.77861987 70.3936116 ]\n"
     ]
    }
   ],
   "source": [
    "import cv2\n",
    "import numpy as np\n",
    "import os\n",
    "\n",
    "# Path to the folder containing the images\n",
    "folder_path = './data/local_s1_left'\n",
    "\n",
    "# Initialize empty lists for storing mean and standard deviation values\n",
    "mean_values = []\n",
    "std_dev_values = []\n",
    "\n",
    "# Iterate over each file in the folder\n",
    "for filename in os.listdir(folder_path):\n",
    "    if filename.endswith('.jpg') or filename.endswith('.png'):  # Modify extensions as needed\n",
    "        # Read the image\n",
    "        image_path = os.path.join(folder_path, filename)\n",
    "        image = cv2.imread(image_path)\n",
    "        \n",
    "        # Convert the image to RGB format\n",
    "        image = cv2.cvtColor(image, cv2.COLOR_BGR2RGB)\n",
    "        \n",
    "        # Calculate the mean and standard deviation of RGB values\n",
    "        mean = np.mean(image, axis=(0, 1))\n",
    "        std_dev = np.std(image, axis=(0, 1))\n",
    "        \n",
    "        # Append the mean and standard deviation values to the lists\n",
    "        mean_values.append(mean)\n",
    "        std_dev_values.append(std_dev)\n",
    "\n",
    "# Convert the lists to NumPy arrays\n",
    "mean_values = np.array(mean_values)\n",
    "std_dev_values = np.array(std_dev_values)\n",
    "\n",
    "# Calculate the overall mean and standard deviation across all images\n",
    "overall_mean = np.mean(mean_values, axis=0)\n",
    "overall_std_dev = np.mean(std_dev_values, axis=0)\n",
    "\n",
    "print(\"Overall Mean RGB values:\", overall_mean)\n",
    "print(\"Overall Standard Deviation RGB values:\", overall_std_dev)\n"
   ]
  },
  {
   "cell_type": "code",
   "execution_count": 28,
   "id": "0bffe73e",
   "metadata": {},
   "outputs": [
    {
     "data": {
      "text/plain": [
       "array([0.23436193, 0.2540338 , 0.27605338])"
      ]
     },
     "execution_count": 28,
     "metadata": {},
     "output_type": "execute_result"
    }
   ],
   "source": [
    "overall_std_dev/255"
   ]
  },
  {
   "cell_type": "code",
   "execution_count": 29,
   "id": "9a7a2d80",
   "metadata": {},
   "outputs": [
    {
     "data": {
      "text/plain": [
       "array([0.4945401 , 0.54598683, 0.52165573])"
      ]
     },
     "execution_count": 29,
     "metadata": {},
     "output_type": "execute_result"
    }
   ],
   "source": [
    "overall_mean/255"
   ]
  }
 ],
 "metadata": {
  "kernelspec": {
   "display_name": "Python 3",
   "language": "python",
   "name": "python3"
  },
  "language_info": {
   "codemirror_mode": {
    "name": "ipython",
    "version": 3
   },
   "file_extension": ".py",
   "mimetype": "text/x-python",
   "name": "python",
   "nbconvert_exporter": "python",
   "pygments_lexer": "ipython3",
   "version": "3.7.6"
  }
 },
 "nbformat": 4,
 "nbformat_minor": 5
}
